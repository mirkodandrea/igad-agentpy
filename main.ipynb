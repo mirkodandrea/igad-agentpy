{
 "cells": [
  {
   "cell_type": "code",
   "execution_count": 1,
   "metadata": {},
   "outputs": [
    {
     "name": "stderr",
     "output_type": "stream",
     "text": [
      "/var/folders/12/5kwdrzf50cj3p54hh2w01fn80000gn/T/ipykernel_16082/3561774130.py:62: UserWarning: Geometry is in a geographic CRS. Results from 'centroid' are likely incorrect. Use 'GeoSeries.to_crs()' to re-project geometries to a projected CRS before this operation.\n",
      "\n",
      "  lons = settlements.geometry.centroid.x\n",
      "/var/folders/12/5kwdrzf50cj3p54hh2w01fn80000gn/T/ipykernel_16082/3561774130.py:63: UserWarning: Geometry is in a geographic CRS. Results from 'centroid' are likely incorrect. Use 'GeoSeries.to_crs()' to re-project geometries to a projected CRS before this operation.\n",
      "\n",
      "  lats = settlements.geometry.centroid.y\n"
     ]
    },
    {
     "name": "stdout",
     "output_type": "stream",
     "text": [
      "0\n",
      "0\n",
      "1\n",
      "2\n",
      "3\n",
      "4\n",
      "5\n",
      "6\n",
      "7\n",
      "8\n",
      "9\n",
      "10\n",
      "11\n",
      "12\n",
      "13\n",
      "14\n",
      "15\n"
     ]
    },
    {
     "ename": "TypeError",
     "evalue": "HouseHold.receive_early_warning() missing 1 required positional argument: 'neighbours_perception'",
     "output_type": "error",
     "traceback": [
      "\u001b[0;31m---------------------------------------------------------------------------\u001b[0m",
      "\u001b[0;31mTypeError\u001b[0m                                 Traceback (most recent call last)",
      "Cell \u001b[0;32mIn [1], line 82\u001b[0m\n\u001b[1;32m     80\u001b[0m \u001b[39m# %%\u001b[39;00m\n\u001b[1;32m     81\u001b[0m model \u001b[39m=\u001b[39m Model(params)\n\u001b[0;32m---> 82\u001b[0m animation_plot(model)\n\u001b[1;32m     83\u001b[0m \u001b[39m#%%\u001b[39;00m\n\u001b[1;32m     86\u001b[0m \u001b[39mdef\u001b[39;00m \u001b[39mplot_stats\u001b[39m(model, variable):\n",
      "Cell \u001b[0;32mIn [1], line 52\u001b[0m, in \u001b[0;36manimation_plot\u001b[0;34m(model)\u001b[0m\n\u001b[1;32m     50\u001b[0m ax \u001b[39m=\u001b[39m fig\u001b[39m.\u001b[39madd_subplot(\u001b[39m111\u001b[39m, projection\u001b[39m=\u001b[39m\u001b[39mNone\u001b[39;00m)\n\u001b[1;32m     51\u001b[0m animation \u001b[39m=\u001b[39m ap\u001b[39m.\u001b[39manimate(model, fig, ax, animation_plot_single)\n\u001b[0;32m---> 52\u001b[0m \u001b[39mreturn\u001b[39;00m IPython\u001b[39m.\u001b[39mdisplay\u001b[39m.\u001b[39mHTML(animation\u001b[39m.\u001b[39;49mto_jshtml(fps\u001b[39m=\u001b[39;49m\u001b[39m3\u001b[39;49m))\n",
      "File \u001b[0;32m~/development/igad/.venv/lib/python3.10/site-packages/matplotlib/animation.py:1329\u001b[0m, in \u001b[0;36mAnimation.to_jshtml\u001b[0;34m(self, fps, embed_frames, default_mode)\u001b[0m\n\u001b[1;32m   1325\u001b[0m         path \u001b[39m=\u001b[39m Path(tmpdir, \u001b[39m\"\u001b[39m\u001b[39mtemp.html\u001b[39m\u001b[39m\"\u001b[39m)\n\u001b[1;32m   1326\u001b[0m         writer \u001b[39m=\u001b[39m HTMLWriter(fps\u001b[39m=\u001b[39mfps,\n\u001b[1;32m   1327\u001b[0m                             embed_frames\u001b[39m=\u001b[39membed_frames,\n\u001b[1;32m   1328\u001b[0m                             default_mode\u001b[39m=\u001b[39mdefault_mode)\n\u001b[0;32m-> 1329\u001b[0m         \u001b[39mself\u001b[39;49m\u001b[39m.\u001b[39;49msave(\u001b[39mstr\u001b[39;49m(path), writer\u001b[39m=\u001b[39;49mwriter)\n\u001b[1;32m   1330\u001b[0m         \u001b[39mself\u001b[39m\u001b[39m.\u001b[39m_html_representation \u001b[39m=\u001b[39m path\u001b[39m.\u001b[39mread_text()\n\u001b[1;32m   1332\u001b[0m \u001b[39mreturn\u001b[39;00m \u001b[39mself\u001b[39m\u001b[39m.\u001b[39m_html_representation\n",
      "File \u001b[0;32m~/development/igad/.venv/lib/python3.10/site-packages/matplotlib/animation.py:1078\u001b[0m, in \u001b[0;36mAnimation.save\u001b[0;34m(self, filename, writer, fps, dpi, codec, bitrate, extra_args, metadata, extra_anim, savefig_kwargs, progress_callback)\u001b[0m\n\u001b[1;32m   1076\u001b[0m \u001b[39melse\u001b[39;00m:\n\u001b[1;32m   1077\u001b[0m     total_frames \u001b[39m=\u001b[39m \u001b[39msum\u001b[39m(save_count_list)\n\u001b[0;32m-> 1078\u001b[0m \u001b[39mfor\u001b[39;00m data \u001b[39min\u001b[39;00m \u001b[39mzip\u001b[39m(\u001b[39m*\u001b[39m[a\u001b[39m.\u001b[39mnew_saved_frame_seq() \u001b[39mfor\u001b[39;00m a \u001b[39min\u001b[39;00m all_anim]):\n\u001b[1;32m   1079\u001b[0m     \u001b[39mfor\u001b[39;00m anim, d \u001b[39min\u001b[39;00m \u001b[39mzip\u001b[39m(all_anim, data):\n\u001b[1;32m   1080\u001b[0m         \u001b[39m# TODO: See if turning off blit is really necessary\u001b[39;00m\n\u001b[1;32m   1081\u001b[0m         anim\u001b[39m.\u001b[39m_draw_next_frame(d, blit\u001b[39m=\u001b[39m\u001b[39mFalse\u001b[39;00m)\n",
      "File \u001b[0;32m~/development/igad/.venv/lib/python3.10/site-packages/agentpy/visualization.py:73\u001b[0m, in \u001b[0;36manimate.<locals>.frames\u001b[0;34m()\u001b[0m\n\u001b[1;32m     71\u001b[0m     pre_steps \u001b[39m+\u001b[39m\u001b[39m=\u001b[39m \u001b[39m1\u001b[39m\n\u001b[1;32m     72\u001b[0m \u001b[39melse\u001b[39;00m:\n\u001b[0;32m---> 73\u001b[0m     model\u001b[39m.\u001b[39;49msim_step()\n\u001b[1;32m     74\u001b[0m     model\u001b[39m.\u001b[39mcreate_output()\n\u001b[1;32m     75\u001b[0m \u001b[39myield\u001b[39;00m model\u001b[39m.\u001b[39mt\n",
      "File \u001b[0;32m~/development/igad/.venv/lib/python3.10/site-packages/agentpy/model.py:327\u001b[0m, in \u001b[0;36mModel.sim_step\u001b[0;34m(self)\u001b[0m\n\u001b[1;32m    324\u001b[0m \u001b[39m\"\"\" Proceeds the simulation by one step, incrementing `Model.t` by 1\u001b[39;00m\n\u001b[1;32m    325\u001b[0m \u001b[39mand then calling :func:`Model.step` and :func:`Model.update`.\"\"\"\u001b[39;00m\n\u001b[1;32m    326\u001b[0m \u001b[39mself\u001b[39m\u001b[39m.\u001b[39mt \u001b[39m+\u001b[39m\u001b[39m=\u001b[39m \u001b[39m1\u001b[39m\n\u001b[0;32m--> 327\u001b[0m \u001b[39mself\u001b[39;49m\u001b[39m.\u001b[39;49mstep()\n\u001b[1;32m    328\u001b[0m \u001b[39mself\u001b[39m\u001b[39m.\u001b[39mupdate()\n\u001b[1;32m    329\u001b[0m \u001b[39mif\u001b[39;00m \u001b[39mself\u001b[39m\u001b[39m.\u001b[39mt \u001b[39m>\u001b[39m\u001b[39m=\u001b[39m \u001b[39mself\u001b[39m\u001b[39m.\u001b[39m_steps:\n",
      "File \u001b[0;32m~/development/igad/library/model.py:49\u001b[0m, in \u001b[0;36mModel.step\u001b[0;34m(self)\u001b[0m\n\u001b[1;32m     46\u001b[0m previous_awareness \u001b[39m=\u001b[39m [h\u001b[39m.\u001b[39mawareness \u001b[39mfor\u001b[39;00m h \u001b[39min\u001b[39;00m \u001b[39mself\u001b[39m\u001b[39m.\u001b[39mhouseholds]\n\u001b[1;32m     48\u001b[0m \u001b[39mif\u001b[39;00m \u001b[39mself\u001b[39m\u001b[39m.\u001b[39memit_early_warning():\n\u001b[0;32m---> 49\u001b[0m     \u001b[39mself\u001b[39;49m\u001b[39m.\u001b[39;49mhouseholds\u001b[39m.\u001b[39;49mreceive_early_warning()\n\u001b[1;32m     51\u001b[0m \u001b[39mself\u001b[39m\u001b[39m.\u001b[39mhouseholds\u001b[39m.\u001b[39mupdate_awareness(previous_awareness)\n\u001b[1;32m     52\u001b[0m \u001b[39mself\u001b[39m\u001b[39m.\u001b[39mhouseholds\u001b[39m.\u001b[39mupdate_fear()\n",
      "File \u001b[0;32m~/development/igad/.venv/lib/python3.10/site-packages/agentpy/sequences.py:102\u001b[0m, in \u001b[0;36mAttrIter.__call__\u001b[0;34m(self, *args, **kwargs)\u001b[0m\n\u001b[1;32m    101\u001b[0m \u001b[39mdef\u001b[39;00m \u001b[39m__call__\u001b[39m(\u001b[39mself\u001b[39m, \u001b[39m*\u001b[39margs, \u001b[39m*\u001b[39m\u001b[39m*\u001b[39mkwargs):\n\u001b[0;32m--> 102\u001b[0m     \u001b[39mreturn\u001b[39;00m AttrIter([func_obj(\u001b[39m*\u001b[39margs, \u001b[39m*\u001b[39m\u001b[39m*\u001b[39mkwargs) \u001b[39mfor\u001b[39;00m func_obj \u001b[39min\u001b[39;00m \u001b[39mself\u001b[39m])\n",
      "File \u001b[0;32m~/development/igad/.venv/lib/python3.10/site-packages/agentpy/sequences.py:102\u001b[0m, in \u001b[0;36m<listcomp>\u001b[0;34m(.0)\u001b[0m\n\u001b[1;32m    101\u001b[0m \u001b[39mdef\u001b[39;00m \u001b[39m__call__\u001b[39m(\u001b[39mself\u001b[39m, \u001b[39m*\u001b[39margs, \u001b[39m*\u001b[39m\u001b[39m*\u001b[39mkwargs):\n\u001b[0;32m--> 102\u001b[0m     \u001b[39mreturn\u001b[39;00m AttrIter([func_obj(\u001b[39m*\u001b[39;49margs, \u001b[39m*\u001b[39;49m\u001b[39m*\u001b[39;49mkwargs) \u001b[39mfor\u001b[39;00m func_obj \u001b[39min\u001b[39;00m \u001b[39mself\u001b[39m])\n",
      "\u001b[0;31mTypeError\u001b[0m: HouseHold.receive_early_warning() missing 1 required positional argument: 'neighbours_perception'"
     ]
    },
    {
     "data": {
      "text/plain": [
       "<Figure size 640x480 with 0 Axes>"
      ]
     },
     "metadata": {},
     "output_type": "display_data"
    }
   ],
   "source": [
    "#%%\n",
    "import agentpy as ap\n",
    "import contextily as cx\n",
    "import geopandas as gpd\n",
    "import IPython\n",
    "import matplotlib.pyplot as plt\n",
    "import numpy as np\n",
    "import pandas as pd\n",
    "import rasterio as rio\n",
    "\n",
    "from numpy.random import random, normal, poisson, pareto\n",
    "\n",
    "from library.households import HouseHold\n",
    "from library.model import Model\n",
    "from library.utils import get_events\n",
    "from library.constants import (\n",
    "    POVERTY_LINE, MAX_YEARS, ALPHA_INCOME\n",
    ")\n",
    "\n",
    "\n",
    "#%%\n",
    "def animation_plot_single(m, ax):\n",
    "    print(f\"{m.t}\")\n",
    "    ax.set_title(f\"t={m.t}\")\n",
    "    displaced_idx = np.array(m.households.displaced)\n",
    "    poors_idx = np.array(m.households.income) < POVERTY_LINE\n",
    "\n",
    "    pos = m.domain.positions.values()\n",
    "    pos = np.array(list(pos)).T\n",
    "\n",
    "    damages = np.array(m.households.damage)\n",
    "\n",
    "    ax.scatter(*pos[:, ~displaced_idx], c=damages[~displaced_idx],\n",
    "               cmap='viridis', marker='s', s=3 + 25*awarenesses[~displaced_idx])\n",
    "    ax.scatter(*pos[:, displaced_idx], c=damages[displaced_idx],\n",
    "               cmap='viridis', marker='x', s=3 + 25*awarenesses[displaced_idx])\n",
    "\n",
    "    ax.scatter(*pos[:, poors_idx], facecolors='none',\n",
    "               edgecolors='g', marker='o', s=30)\n",
    "\n",
    "    cx.add_basemap(ax, crs='epsg:4326',\n",
    "                   source=cx.providers.OpenStreetMap.Mapnik)\n",
    "    #ax.set_xlim(0, m.p.size)\n",
    "    #ax.set_ylim(0, m.p.size)\n",
    "    ax.set_axis_off()\n",
    "\n",
    "\n",
    "def animation_plot(model):\n",
    "    fig = plt.figure(figsize=(10, 10))\n",
    "    ax = fig.add_subplot(111, projection=None)\n",
    "    animation = ap.animate(model, fig, ax, animation_plot_single)\n",
    "    return IPython.display.HTML(animation.to_jshtml(fps=3))\n",
    "\n",
    "# %%\n",
    "\n",
    "\n",
    "settlements = gpd.read_file(\n",
    "    'IGAD/settlements_with_price.gpkg').to_crs(epsg=4326)\n",
    "events = get_events(initial_year=0, stride=MAX_YEARS)\n",
    "n_households = len(settlements)\n",
    "prices = settlements['price'].values\n",
    "lons = settlements.geometry.centroid.x\n",
    "lats = settlements.geometry.centroid.y\n",
    "positions = list(zip(lons, lats))\n",
    "incomes = pareto(ALPHA_INCOME, n_households)\n",
    "vulnerabilities = random(n_households)\n",
    "awarenesses = random(n_households)\n",
    "fears = random(n_households)\n",
    "family_members = poisson(4, n_households)+1\n",
    "params = dict(\n",
    "    positions=positions,\n",
    "    prices=prices,\n",
    "    incomes=incomes,\n",
    "    vulnerabilities=vulnerabilities,\n",
    "    family_members=family_members,\n",
    "    events=events,\n",
    "    awarenesses=awarenesses,\n",
    "    fears=fears\n",
    ")\n",
    "# %%\n",
    "model = Model(params)\n",
    "animation_plot(model)\n",
    "#%%\n",
    "\n",
    "\n",
    "def plot_stats(model, variable):\n",
    "    df = model.output['variables']['HouseHold']\n",
    "    var = df[variable].unstack().mean(axis=0)\n",
    "    ax = var.plot.bar()\n",
    "    max_y = var.max()*1.1\n",
    "    ax.set_ylim(0, max_y)\n",
    "    events_years = events.keys()\n",
    "    ax.stem(events_years, [max_y]*len(events_years), 'r')\n",
    "    ax.set_title(variable)\n",
    "    plt.show()\n",
    "\n",
    "\n",
    "plot_stats(model, 'damage')\n",
    "plot_stats(model, 'displaced')\n",
    "plot_stats(model, 'awareness')\n",
    "plot_stats(model, 'fear')\n",
    "plot_stats(model, 'perception')\n",
    "\n",
    "\n",
    "# %%\n"
   ]
  }
 ],
 "metadata": {
  "kernelspec": {
   "display_name": "Python 3",
   "language": "python",
   "name": "python3"
  },
  "language_info": {
   "codemirror_mode": {
    "name": "ipython",
    "version": 3
   },
   "file_extension": ".py",
   "mimetype": "text/x-python",
   "name": "python",
   "nbconvert_exporter": "python",
   "pygments_lexer": "ipython3",
   "version": "3.10.4"
  },
  "orig_nbformat": 4,
  "vscode": {
   "interpreter": {
    "hash": "1fc30234dc0aca085710dfa68cb33fd260b1cffdaed40ec22f6f666fa30d399e"
   }
  }
 },
 "nbformat": 4,
 "nbformat_minor": 2
}

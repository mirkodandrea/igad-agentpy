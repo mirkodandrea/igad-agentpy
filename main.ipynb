{
 "cells": [
  {
   "cell_type": "code",
   "execution_count": null,
   "metadata": {},
   "outputs": [],
   "source": [
    "!wget apps.cimafoundation.org/html/IGAD.zip -O IGAD.zip\n",
    "!unzip IGAD.zip\n",
    "%pip install -r requirements.txt"
   ]
  },
  {
   "cell_type": "code",
   "execution_count": null,
   "metadata": {},
   "outputs": [],
   "source": [
    "import agentpy as ap\n",
    "import contextily as cx\n",
    "import geopandas as gpd\n",
    "import IPython\n",
    "import matplotlib.pyplot as plt\n",
    "import numpy as np\n",
    "import pandas as pd\n",
    "import rasterio as rio\n",
    "\n",
    "from numpy.random import random, normal, poisson, pareto\n",
    "\n",
    "from library.households import HouseHold\n",
    "from library.model import Model\n",
    "from library.utils import get_events\n",
    "from library.constants import (\n",
    "    POVERTY_LINE, MAX_YEARS, ALPHA_INCOME\n",
    ")"
   ]
  },
  {
   "cell_type": "code",
   "execution_count": null,
   "metadata": {},
   "outputs": [],
   "source": [
    "def animation_plot_single(m, ax):\n",
    "    print(f\"{m.t}\")\n",
    "    ax.set_title(f\"t={m.t}\")\n",
    "    displaced_idx = np.array(m.households.displaced)\n",
    "    poors_idx = np.array(m.households.income) < POVERTY_LINE\n",
    "\n",
    "    pos = m.domain.positions.values()\n",
    "    pos = np.array(list(pos)).T\n",
    "\n",
    "    damages = np.array(m.households.damage)\n",
    "\n",
    "    ax.scatter(*pos[:, ~displaced_idx], c=damages[~displaced_idx],\n",
    "               cmap='viridis', marker='s', s=3 + 25*awarenesses[~displaced_idx])\n",
    "    ax.scatter(*pos[:, displaced_idx], c=damages[displaced_idx],\n",
    "               cmap='viridis', marker='x', s=3 + 25*awarenesses[displaced_idx])\n",
    "\n",
    "    ax.scatter(*pos[:, poors_idx], facecolors='none',\n",
    "               edgecolors='g', marker='o', s=30)\n",
    "\n",
    "    cx.add_basemap(ax, crs='epsg:4326',\n",
    "                   source=cx.providers.OpenStreetMap.Mapnik)\n",
    "    #ax.set_xlim(0, m.p.size)\n",
    "    #ax.set_ylim(0, m.p.size)\n",
    "    ax.set_axis_off()\n",
    "\n",
    "\n",
    "def animation_plot(model):\n",
    "    fig = plt.figure(figsize=(10, 10))\n",
    "    ax = fig.add_subplot(111, projection=None)\n",
    "    animation = ap.animate(model, fig, ax, animation_plot_single)\n",
    "    return IPython.display.HTML(animation.to_jshtml(fps=3))\n"
   ]
  },
  {
   "cell_type": "code",
   "execution_count": null,
   "metadata": {},
   "outputs": [],
   "source": [
    "\n",
    "settlements = gpd.read_file(\n",
    "    'IGAD/settlements_with_price.gpkg').to_crs(epsg=4326)\n",
    "events = get_events(initial_year=0, stride=MAX_YEARS)\n",
    "n_households = len(settlements)\n",
    "prices = settlements['price'].values\n",
    "lons = settlements.geometry.centroid.x\n",
    "lats = settlements.geometry.centroid.y\n",
    "positions = list(zip(lons, lats))\n",
    "incomes = pareto(ALPHA_INCOME, n_households)\n",
    "vulnerabilities = random(n_households)\n",
    "awarenesses = random(n_households)\n",
    "fears = random(n_households)\n",
    "family_members = poisson(4, n_households)+1\n",
    "params = dict(\n",
    "    positions=positions,\n",
    "    prices=prices,\n",
    "    incomes=incomes,\n",
    "    vulnerabilities=vulnerabilities,\n",
    "    family_members=family_members,\n",
    "    events=events,\n",
    "    awarenesses=awarenesses,\n",
    "    fears=fears\n",
    ")\n",
    "# %%\n",
    "model = Model(params)\n",
    "animation_plot(model)\n"
   ]
  },
  {
   "cell_type": "code",
   "execution_count": null,
   "metadata": {},
   "outputs": [],
   "source": [
    "\n",
    "def plot_stats(model, variable):\n",
    "    df = model.output['variables']['HouseHold']\n",
    "    var = df[variable].unstack().mean(axis=0)\n",
    "    ax = var.plot.bar()\n",
    "    max_y = var.max()*1.1\n",
    "    ax.set_ylim(0, max_y)\n",
    "    events_years = events.keys()\n",
    "    ax.stem(events_years, [max_y]*len(events_years), 'r')\n",
    "    ax.set_title(variable)\n",
    "    plt.show()\n",
    "\n",
    "\n",
    "plot_stats(model, 'damage')\n",
    "plot_stats(model, 'displaced')\n",
    "plot_stats(model, 'awareness')\n",
    "plot_stats(model, 'fear')\n",
    "plot_stats(model, 'perception')\n"
   ]
  }
 ],
 "metadata": {
  "kernelspec": {
   "display_name": "Python 3",
   "language": "python",
   "name": "python3"
  },
  "language_info": {
   "codemirror_mode": {
    "name": "ipython",
    "version": 3
   },
   "file_extension": ".py",
   "mimetype": "text/x-python",
   "name": "python",
   "nbconvert_exporter": "python",
   "pygments_lexer": "ipython3",
   "version": "3.10.4"
  },
  "orig_nbformat": 4,
  "vscode": {
   "interpreter": {
    "hash": "1fc30234dc0aca085710dfa68cb33fd260b1cffdaed40ec22f6f666fa30d399e"
   }
  }
 },
 "nbformat": 4,
 "nbformat_minor": 2
}
